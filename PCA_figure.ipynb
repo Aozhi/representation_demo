{
 "cells": [
  {
   "cell_type": "code",
   "execution_count": null,
   "metadata": {},
   "outputs": [],
   "source": [
    "import torch, os\n",
    "import IPython.display\n",
    "import numpy as np\n",
    "import matplotlib.pyplot as plt\n",
    "from src.models.model import VAE\n",
    "from src.utils import *\n",
    "from src.interact_func import *"
   ]
  },
  {
   "cell_type": "code",
   "execution_count": null,
   "metadata": {},
   "outputs": [],
   "source": [
    "model = VAE(130, 2048, 512, 32)\n",
    "model.eval()\n",
    "dic = torch.load('params/tr_512.pt')\n",
    "for name in list(dic.keys()):\n",
    "    dic[name.replace('module.', '')] = dic.pop(name)\n",
    "model.load_state_dict(dic)\n",
    "if torch.cuda.is_available():\n",
    "    model = model.cuda()\n",
    "\n",
    "\n",
    "\n",
    "data1 = np.load('/scratch/dw1920/batch_0.npy')\n",
    "# data2 = np.load('/scratch/dw1920/batch_1.npy')\n",
    "# data3 = np.load('/scratch/dw1920/batch_2.npy')"
   ]
  },
  {
   "cell_type": "code",
   "execution_count": null,
   "metadata": {},
   "outputs": [],
   "source": [
    "# data = torch.from_numpy(np.concatenate(np.array([data1, data2]), 0)).float().cuda()\n",
    "\n",
    "all_z = []\n",
    "batch_size = 1000\n",
    "for i in range(5):\n",
    "    data = torch.from_numpy(data1[i*batch_size:(i+1)*batch_size]).float().cuda()\n",
    "    z = model.encode(data).mean\n",
    "    all_z.append(z)\n",
    "    print(i)\n"
   ]
  },
  {
   "cell_type": "code",
   "execution_count": null,
   "metadata": {},
   "outputs": [],
   "source": [
    "type(all_z[0])"
   ]
  },
  {
   "cell_type": "code",
   "execution_count": null,
   "metadata": {},
   "outputs": [],
   "source": [
    "from sklearn.decomposition import PCA\n",
    "\n",
    "for i in range(len(all_z)):\n",
    "    all_z[i] = all_z[i].cpu().detach().numpy()\n",
    "x=np.concatenate(np.array(all_z), 0)\n",
    "X_scaler = StandardScaler()\n",
    "x = X_scaler.fit_transform(x)\n",
    "pca = PCA(n_components=128)\n",
    "pca.fit(x)\n",
    "pca.transform(x)"
   ]
  },
  {
   "cell_type": "code",
   "execution_count": null,
   "metadata": {},
   "outputs": [],
   "source": [
    "cov_mat = np.cov(x, rowvar = 0)"
   ]
  },
  {
   "cell_type": "code",
   "execution_count": null,
   "metadata": {},
   "outputs": [],
   "source": [
    "sigma = cov_mat\n",
    "[U,S,V] = np.linalg.svd(sigma)"
   ]
  },
  {
   "cell_type": "code",
   "execution_count": null,
   "metadata": {},
   "outputs": [],
   "source": [
    "s_out = 0\n",
    "for i in range(128):\n",
    "    s_out += S[i]\n",
    "\n",
    "t_out = 0\n",
    "for i in range(512):\n",
    "    t_out += S[i]\n",
    "    \n",
    "print(s_out/t_out)"
   ]
  },
  {
   "cell_type": "code",
   "execution_count": null,
   "metadata": {},
   "outputs": [],
   "source": [
    "print(pca.explained_variance_ratio_)"
   ]
  },
  {
   "cell_type": "code",
   "execution_count": null,
   "metadata": {},
   "outputs": [],
   "source": [
    "var = pca.explained_variance_ratio_\n",
    "varz = {}\n",
    "\n",
    "for i, j in enumerate(var):\n",
    "    varz[i+1] = j\n"
   ]
  },
  {
   "cell_type": "code",
   "execution_count": null,
   "metadata": {},
   "outputs": [],
   "source": [
    "sorted_by_value = sorted(varz.items(), key=lambda kv: kv[1]).reverse()\n"
   ]
  },
  {
   "cell_type": "code",
   "execution_count": null,
   "metadata": {
    "scrolled": true
   },
   "outputs": [],
   "source": [
    "sorted_by_value"
   ]
  },
  {
   "cell_type": "code",
   "execution_count": null,
   "metadata": {},
   "outputs": [],
   "source": [
    "dims = [i[0] for i in sorted_by_value]\n",
    "var_tmp = [i[1] for i in sorted_by_value]\n",
    "var = np.cumsum(var_tmp)\n",
    "plt.figure(figsize=(12, 10))\n",
    "plt.ylabel('variances', fontsize=48)\n",
    "plt.xlabel(\"dimension indexes\", fontsize=48)\n",
    "plt.plot(dims, var, color='red', linestyle='solid')\n",
    "plt.title('')\n",
    "plt.savefig('pca.png',bbox_inches=\"tight\", dpi=300)\n",
    "plt.show()\n"
   ]
  },
  {
   "cell_type": "code",
   "execution_count": null,
   "metadata": {},
   "outputs": [],
   "source": []
  }
 ],
 "metadata": {
  "kernelspec": {
   "display_name": "Python 3",
   "language": "python",
   "name": "python3"
  },
  "language_info": {
   "codemirror_mode": {
    "name": "ipython",
    "version": 3
   },
   "file_extension": ".py",
   "mimetype": "text/x-python",
   "name": "python",
   "nbconvert_exporter": "python",
   "pygments_lexer": "ipython3",
   "version": "3.7.0"
  }
 },
 "nbformat": 4,
 "nbformat_minor": 2
}
